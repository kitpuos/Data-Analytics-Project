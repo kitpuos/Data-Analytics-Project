{
 "cells": [
  {
   "cell_type": "markdown",
   "id": "8dd4666d",
   "metadata": {},
   "source": [
    "## Importing necessary libraries"
   ]
  },
  {
   "cell_type": "code",
   "execution_count": 1,
   "id": "ce87944b",
   "metadata": {},
   "outputs": [],
   "source": [
    "import os\n",
    "import numpy as np\n",
    "import pandas as pd\n",
    "import matplotlib.pyplot as plt\n",
    "from sqlalchemy import create_engine\n",
    "import time\n",
    "import logging"
   ]
  },
  {
   "cell_type": "markdown",
   "id": "56af8292",
   "metadata": {},
   "source": [
    "## Setting the paths for the directories and log file"
   ]
  },
  {
   "cell_type": "code",
   "execution_count": 2,
   "id": "d4032f69",
   "metadata": {},
   "outputs": [],
   "source": [
    "# Automatically get the path of the notebook/script\n",
    "\n",
    "NOTEBOOKS_DIR = os.getcwd()\n",
    "BASE_DIR = os.path.abspath(os.path.join(NOTEBOOKS_DIR, os.pardir))\n",
    "DATA_DIR = os.path.join(BASE_DIR, 'data')\n",
    "LOGS_DIR = os.path.join(BASE_DIR, 'logs')\n",
    "DB_PATH = os.path.join(DATA_DIR, 'company-inventory.db')"
   ]
  },
  {
   "cell_type": "code",
   "execution_count": 3,
   "id": "750b82e9",
   "metadata": {},
   "outputs": [],
   "source": [
    "os.makedirs(LOGS_DIR, exist_ok = True)\n",
    "\n",
    "log_file_path = os.path.join(LOGS_DIR, 'data_ingestion.log')\n",
    "logging.basicConfig(\n",
    "    filename = log_file_path,\n",
    "    level = logging.DEBUG,\n",
    "    format = '%(asctime)s - %(levelname)s - %(message)s',\n",
    "    filemode = 'w'\n",
    ")"
   ]
  },
  {
   "cell_type": "markdown",
   "id": "3eeb58b1",
   "metadata": {},
   "source": [
    "## Creating database engine with Sqlalchemy"
   ]
  },
  {
   "cell_type": "code",
   "execution_count": 4,
   "id": "e938e156",
   "metadata": {},
   "outputs": [
    {
     "data": {
      "text/plain": [
       "Engine(sqlite:///e:\\Data Analytics Project\\data\\company-inventory.db)"
      ]
     },
     "execution_count": 4,
     "metadata": {},
     "output_type": "execute_result"
    }
   ],
   "source": [
    "engine = create_engine(f'sqlite:///{DB_PATH}')\n",
    "engine"
   ]
  },
  {
   "cell_type": "markdown",
   "id": "2ed4406c",
   "metadata": {},
   "source": [
    "## Data ingestion"
   ]
  },
  {
   "cell_type": "code",
   "execution_count": 5,
   "id": "d7744f5f",
   "metadata": {},
   "outputs": [],
   "source": [
    "def ingest_data_to_db(df, table_name, engine):\n",
    "    \"\"\"\n",
    "    Ingests a DataFrame into a specified table in the database.\n",
    "    \"\"\"\n",
    "    df.to_sql(table_name, con = engine, if_exists = 'replace', index = False)\n",
    "    print(f\"Data ingested into table: {table_name}\")"
   ]
  },
  {
   "cell_type": "markdown",
   "id": "63e59d11",
   "metadata": {},
   "source": [
    "## Reading the datasets and storing in SQL database"
   ]
  },
  {
   "cell_type": "code",
   "execution_count": 6,
   "id": "ec15534b",
   "metadata": {},
   "outputs": [],
   "source": [
    "def load_raw_data():\n",
    "    \"\"\"\n",
    "    Loads all CSV files in the data folder into the SQLite database.\n",
    "    \"\"\"\n",
    "    # Check if the data directory exists\n",
    "    if not os.path.exists(DATA_DIR):\n",
    "        raise FileNotFoundError(f\"The directory {DATA_DIR} does not exist.\")\n",
    "    \n",
    "    start_time = time.time()\n",
    "    logging.info(f\"Starting data ingestion from {DATA_DIR}\")\n",
    "\n",
    "    for file in os.listdir(DATA_DIR):\n",
    "        if file.endswith('.csv'):\n",
    "            file_path = os.path.join(DATA_DIR, file)\n",
    "\n",
    "            try:\n",
    "                df = pd.read_csv(file_path)\n",
    "                logging.info(f\"Ingesting file {file} in database\")\n",
    "                ingest_data_to_db(df, file.split('.')[0], engine)\n",
    "            \n",
    "            except Exception as e:\n",
    "                logging.error(f\"Error processing file {file}: {e}\")\n",
    "    \n",
    "    end_time = time.time()\n",
    "    total_time = end_time - start_time\n",
    "    logging.info(f\"Data ingestion completed in {total_time:.2f} seconds\")"
   ]
  },
  {
   "cell_type": "code",
   "execution_count": 7,
   "id": "da2a915e",
   "metadata": {},
   "outputs": [
    {
     "name": "stdout",
     "output_type": "stream",
     "text": [
      "Data ingested into table: begin_inventory\n",
      "Data ingested into table: end_inventory\n",
      "Data ingested into table: purchases\n",
      "Data ingested into table: purchase_prices\n",
      "Data ingested into table: sales\n",
      "Data ingested into table: vendor_invoice\n",
      "Data ingestion completed successfully.\n"
     ]
    }
   ],
   "source": [
    "if __name__ == \"__main__\":\n",
    "    load_raw_data()\n",
    "    print(\"Data ingestion completed successfully.\")\n",
    "    logging.info(\"Data ingestion completed successfully.\")"
   ]
  },
  {
   "cell_type": "code",
   "execution_count": 8,
   "id": "4645bccb",
   "metadata": {},
   "outputs": [
    {
     "name": "stdout",
     "output_type": "stream",
     "text": [
      "Loaded file: begin_inventory.csv\n",
      "\n",
      "         InventoryId  Store          City  Brand                  Description  \\\n",
      "0  1_HARDERSFIELD_58      1  HARDERSFIELD     58  Gekkeikan Black & Gold Sake   \n",
      "1  1_HARDERSFIELD_60      1  HARDERSFIELD     60       Canadian Club 1858 VAP   \n",
      "2  1_HARDERSFIELD_62      1  HARDERSFIELD     62     Herradura Silver Tequila   \n",
      "3  1_HARDERSFIELD_63      1  HARDERSFIELD     63   Herradura Reposado Tequila   \n",
      "4  1_HARDERSFIELD_72      1  HARDERSFIELD     72         No. 3 London Dry Gin   \n",
      "\n",
      "    Size  onHand  Price   startDate  \n",
      "0  750mL       8  12.99  2024-01-01  \n",
      "1  750mL       7  10.99  2024-01-01  \n",
      "2  750mL       6  36.99  2024-01-01  \n",
      "3  750mL       3  38.99  2024-01-01  \n",
      "4  750mL       6  34.99  2024-01-01  \n",
      "\n",
      "Shape of DataFrame: (206529, 9)\n",
      "Columns: ['InventoryId', 'Store', 'City', 'Brand', 'Description', 'Size', 'onHand', 'Price', 'startDate']\n",
      "\n",
      "--------------------------------------------------------------------------------\n",
      "Loaded file: end_inventory.csv\n",
      "\n",
      "         InventoryId  Store          City  Brand                  Description  \\\n",
      "0  1_HARDERSFIELD_58      1  HARDERSFIELD     58  Gekkeikan Black & Gold Sake   \n",
      "1  1_HARDERSFIELD_62      1  HARDERSFIELD     62     Herradura Silver Tequila   \n",
      "2  1_HARDERSFIELD_63      1  HARDERSFIELD     63   Herradura Reposado Tequila   \n",
      "3  1_HARDERSFIELD_72      1  HARDERSFIELD     72         No. 3 London Dry Gin   \n",
      "4  1_HARDERSFIELD_75      1  HARDERSFIELD     75    Three Olives Tomato Vodka   \n",
      "\n",
      "    Size  onHand  Price     endDate  \n",
      "0  750mL      11  12.99  2024-12-31  \n",
      "1  750mL       7  36.99  2024-12-31  \n",
      "2  750mL       7  38.99  2024-12-31  \n",
      "3  750mL       4  34.99  2024-12-31  \n",
      "4  750mL       7  14.99  2024-12-31  \n",
      "\n",
      "Shape of DataFrame: (224489, 9)\n",
      "Columns: ['InventoryId', 'Store', 'City', 'Brand', 'Description', 'Size', 'onHand', 'Price', 'endDate']\n",
      "\n",
      "--------------------------------------------------------------------------------\n",
      "Loaded file: purchases.csv\n",
      "\n",
      "           InventoryId  Store  Brand                   Description   Size  \\\n",
      "0    69_MOUNTMEND_8412     69   8412     Tequila Ocho Plata Fresno  750mL   \n",
      "1     30_CULCHETH_5255     30   5255  TGI Fridays Ultimte Mudslide  1.75L   \n",
      "2    34_PITMERDEN_5215     34   5215  TGI Fridays Long Island Iced  1.75L   \n",
      "3  1_HARDERSFIELD_5255      1   5255  TGI Fridays Ultimte Mudslide  1.75L   \n",
      "4    76_DONCASTER_2034     76   2034     Glendalough Double Barrel  750mL   \n",
      "\n",
      "   VendorNumber                   VendorName  PONumber      PODate  \\\n",
      "0           105  ALTAMAR BRANDS LLC               8124  2023-12-21   \n",
      "1          4466  AMERICAN VINTAGE BEVERAGE        8137  2023-12-22   \n",
      "2          4466  AMERICAN VINTAGE BEVERAGE        8137  2023-12-22   \n",
      "3          4466  AMERICAN VINTAGE BEVERAGE        8137  2023-12-22   \n",
      "4           388  ATLANTIC IMPORTING COMPANY       8169  2023-12-24   \n",
      "\n",
      "  ReceivingDate InvoiceDate     PayDate  PurchasePrice  Quantity  Dollars  \\\n",
      "0    2024-01-02  2024-01-04  2024-02-16          35.71         6   214.26   \n",
      "1    2024-01-01  2024-01-07  2024-02-21           9.35         4    37.40   \n",
      "2    2024-01-02  2024-01-07  2024-02-21           9.41         5    47.05   \n",
      "3    2024-01-01  2024-01-07  2024-02-21           9.35         6    56.10   \n",
      "4    2024-01-02  2024-01-09  2024-02-16          21.32         5   106.60   \n",
      "\n",
      "   Classification  \n",
      "0               1  \n",
      "1               1  \n",
      "2               1  \n",
      "3               1  \n",
      "4               1  \n",
      "\n",
      "Shape of DataFrame: (2372474, 16)\n",
      "Columns: ['InventoryId', 'Store', 'Brand', 'Description', 'Size', 'VendorNumber', 'VendorName', 'PONumber', 'PODate', 'ReceivingDate', 'InvoiceDate', 'PayDate', 'PurchasePrice', 'Quantity', 'Dollars', 'Classification']\n",
      "\n",
      "--------------------------------------------------------------------------------\n",
      "Loaded file: purchase_prices.csv\n",
      "\n",
      "   Brand                  Description  Price   Size Volume  Classification  \\\n",
      "0     58  Gekkeikan Black & Gold Sake  12.99  750mL    750               1   \n",
      "1     62     Herradura Silver Tequila  36.99  750mL    750               1   \n",
      "2     63   Herradura Reposado Tequila  38.99  750mL    750               1   \n",
      "3     72         No. 3 London Dry Gin  34.99  750mL    750               1   \n",
      "4     75    Three Olives Tomato Vodka  14.99  750mL    750               1   \n",
      "\n",
      "   PurchasePrice  VendorNumber                   VendorName  \n",
      "0           9.28          8320  SHAW ROSS INT L IMP LTD      \n",
      "1          28.67          1128  BROWN-FORMAN CORP            \n",
      "2          30.46          1128  BROWN-FORMAN CORP            \n",
      "3          26.11          9165  ULTRA BEVERAGE COMPANY LLP   \n",
      "4          10.94          7245  PROXIMO SPIRITS INC.         \n",
      "\n",
      "Shape of DataFrame: (12261, 9)\n",
      "Columns: ['Brand', 'Description', 'Price', 'Size', 'Volume', 'Classification', 'PurchasePrice', 'VendorNumber', 'VendorName']\n",
      "\n",
      "--------------------------------------------------------------------------------\n",
      "Loaded file: sales.csv\n",
      "\n",
      "           InventoryId  Store  Brand                 Description        Size  \\\n",
      "0  1_HARDERSFIELD_1004      1   1004  Jim Beam w/2 Rocks Glasses       750mL   \n",
      "1  1_HARDERSFIELD_1004      1   1004  Jim Beam w/2 Rocks Glasses       750mL   \n",
      "2  1_HARDERSFIELD_1004      1   1004  Jim Beam w/2 Rocks Glasses       750mL   \n",
      "3  1_HARDERSFIELD_1004      1   1004  Jim Beam w/2 Rocks Glasses       750mL   \n",
      "4  1_HARDERSFIELD_1005      1   1005     Maker's Mark Combo Pack  375mL 2 Pk   \n",
      "\n",
      "   SalesQuantity  SalesDollars  SalesPrice   SalesDate  Volume  \\\n",
      "0              1         16.49       16.49  2024-01-01   750.0   \n",
      "1              2         32.98       16.49  2024-01-02   750.0   \n",
      "2              1         16.49       16.49  2024-01-03   750.0   \n",
      "3              1         14.49       14.49  2024-01-08   750.0   \n",
      "4              2         69.98       34.99  2024-01-09   375.0   \n",
      "\n",
      "   Classification  ExciseTax  VendorNo                   VendorName  \n",
      "0               1       0.79     12546  JIM BEAM BRANDS COMPANY      \n",
      "1               1       1.57     12546  JIM BEAM BRANDS COMPANY      \n",
      "2               1       0.79     12546  JIM BEAM BRANDS COMPANY      \n",
      "3               1       0.79     12546  JIM BEAM BRANDS COMPANY      \n",
      "4               1       0.79     12546  JIM BEAM BRANDS COMPANY      \n",
      "\n",
      "Shape of DataFrame: (12825363, 14)\n",
      "Columns: ['InventoryId', 'Store', 'Brand', 'Description', 'Size', 'SalesQuantity', 'SalesDollars', 'SalesPrice', 'SalesDate', 'Volume', 'Classification', 'ExciseTax', 'VendorNo', 'VendorName']\n",
      "\n",
      "--------------------------------------------------------------------------------\n",
      "Loaded file: vendor_invoice.csv\n",
      "\n",
      "   VendorNumber                   VendorName InvoiceDate  PONumber  \\\n",
      "0           105  ALTAMAR BRANDS LLC           2024-01-04      8124   \n",
      "1          4466  AMERICAN VINTAGE BEVERAGE    2024-01-07      8137   \n",
      "2           388  ATLANTIC IMPORTING COMPANY   2024-01-09      8169   \n",
      "3           480  BACARDI USA INC              2024-01-12      8106   \n",
      "4           516  BANFI PRODUCTS CORP          2024-01-07      8170   \n",
      "\n",
      "       PODate     PayDate  Quantity    Dollars  Freight Approval  \n",
      "0  2023-12-21  2024-02-16         6     214.26     3.47      NaN  \n",
      "1  2023-12-22  2024-02-21        15     140.55     8.57      NaN  \n",
      "2  2023-12-24  2024-02-16         5     106.60     4.61      NaN  \n",
      "3  2023-12-20  2024-02-05     10100  137483.78  2935.20      NaN  \n",
      "4  2023-12-24  2024-02-12      1935   15527.25   429.20      NaN  \n",
      "\n",
      "Shape of DataFrame: (5543, 10)\n",
      "Columns: ['VendorNumber', 'VendorName', 'InvoiceDate', 'PONumber', 'PODate', 'PayDate', 'Quantity', 'Dollars', 'Freight', 'Approval']\n",
      "\n",
      "--------------------------------------------------------------------------------\n"
     ]
    }
   ],
   "source": [
    "# Check if the data directory exists\n",
    "if not os.path.exists(DATA_DIR):\n",
    "    raise FileNotFoundError(f\"The directory {DATA_DIR} does not exist.\")\n",
    "for file in os.listdir(DATA_DIR):\n",
    "    if file.endswith('.csv'):\n",
    "        file_path = os.path.join(DATA_DIR, file)\n",
    "        df = pd.read_csv(file_path)\n",
    "        print(f\"Loaded file: {file}\\n\")\n",
    "        print(df.head())\n",
    "        print(f\"\\nShape of DataFrame: {df.shape}\")\n",
    "        print(f\"Columns: {df.columns.tolist()}\\n\")\n",
    "        print('-' * 80)"
   ]
  }
 ],
 "metadata": {
  "kernelspec": {
   "display_name": "Python 3",
   "language": "python",
   "name": "python3"
  },
  "language_info": {
   "codemirror_mode": {
    "name": "ipython",
    "version": 3
   },
   "file_extension": ".py",
   "mimetype": "text/x-python",
   "name": "python",
   "nbconvert_exporter": "python",
   "pygments_lexer": "ipython3",
   "version": "3.10.0"
  }
 },
 "nbformat": 4,
 "nbformat_minor": 5
}
